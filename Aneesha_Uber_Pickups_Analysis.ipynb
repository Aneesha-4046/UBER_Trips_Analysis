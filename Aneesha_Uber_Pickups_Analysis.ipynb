{
 "cells": [
  {
   "cell_type": "markdown",
   "id": "59130f22",
   "metadata": {},
   "source": [
    "### Uber Pickups Analysis Quiz\n",
    "\n",
    "The question set is based on the August dataset, `uber-raw-data-aug14.csv`.\n",
    "\n",
    "#### Keeping the dataset ready before questions"
   ]
  },
  {
   "cell_type": "code",
   "execution_count": 4,
   "id": "5cee4116",
   "metadata": {},
   "outputs": [
    {
     "data": {
      "text/html": [
       "<div>\n",
       "<style scoped>\n",
       "    .dataframe tbody tr th:only-of-type {\n",
       "        vertical-align: middle;\n",
       "    }\n",
       "\n",
       "    .dataframe tbody tr th {\n",
       "        vertical-align: top;\n",
       "    }\n",
       "\n",
       "    .dataframe thead th {\n",
       "        text-align: right;\n",
       "    }\n",
       "</style>\n",
       "<table border=\"1\" class=\"dataframe\">\n",
       "  <thead>\n",
       "    <tr style=\"text-align: right;\">\n",
       "      <th></th>\n",
       "      <th>Date/Time</th>\n",
       "      <th>Lat</th>\n",
       "      <th>Lon</th>\n",
       "      <th>Base</th>\n",
       "    </tr>\n",
       "  </thead>\n",
       "  <tbody>\n",
       "    <tr>\n",
       "      <th>0</th>\n",
       "      <td>8/1/2014 0:03:00</td>\n",
       "      <td>40.7366</td>\n",
       "      <td>-73.9906</td>\n",
       "      <td>B02512</td>\n",
       "    </tr>\n",
       "    <tr>\n",
       "      <th>1</th>\n",
       "      <td>8/1/2014 0:09:00</td>\n",
       "      <td>40.7260</td>\n",
       "      <td>-73.9918</td>\n",
       "      <td>B02512</td>\n",
       "    </tr>\n",
       "    <tr>\n",
       "      <th>2</th>\n",
       "      <td>8/1/2014 0:12:00</td>\n",
       "      <td>40.7209</td>\n",
       "      <td>-74.0507</td>\n",
       "      <td>B02512</td>\n",
       "    </tr>\n",
       "    <tr>\n",
       "      <th>3</th>\n",
       "      <td>8/1/2014 0:12:00</td>\n",
       "      <td>40.7387</td>\n",
       "      <td>-73.9856</td>\n",
       "      <td>B02512</td>\n",
       "    </tr>\n",
       "    <tr>\n",
       "      <th>4</th>\n",
       "      <td>8/1/2014 0:12:00</td>\n",
       "      <td>40.7323</td>\n",
       "      <td>-74.0077</td>\n",
       "      <td>B02512</td>\n",
       "    </tr>\n",
       "  </tbody>\n",
       "</table>\n",
       "</div>"
      ],
      "text/plain": [
       "          Date/Time      Lat      Lon    Base\n",
       "0  8/1/2014 0:03:00  40.7366 -73.9906  B02512\n",
       "1  8/1/2014 0:09:00  40.7260 -73.9918  B02512\n",
       "2  8/1/2014 0:12:00  40.7209 -74.0507  B02512\n",
       "3  8/1/2014 0:12:00  40.7387 -73.9856  B02512\n",
       "4  8/1/2014 0:12:00  40.7323 -74.0077  B02512"
      ]
     },
     "execution_count": 4,
     "metadata": {},
     "output_type": "execute_result"
    }
   ],
   "source": [
    "import pandas as pd\n",
    "df = pd.read_csv(r\"C:\\Users\\Rohit\\OneDrive\\Desktop\\uber-raw-data-aug14.csv\")\n",
    "df.head()"
   ]
  },
  {
   "cell_type": "markdown",
   "id": "c622eaeb",
   "metadata": {},
   "source": [
    "#### Q1. On what date did we see the most number of Uber pickups?\n",
    "\n",
    "**Skill Test:** Grouping & Counting"
   ]
  },
  {
   "cell_type": "code",
   "execution_count": 36,
   "id": "55dbb048",
   "metadata": {},
   "outputs": [],
   "source": [
    "# Convert the 'Date/Time' column to datetime format\n",
    "df[\"Date/Time\"]=pd.to_datetime(df[\"Date/Time\"])\n"
   ]
  },
  {
   "cell_type": "code",
   "execution_count": 16,
   "id": "3ee594ad",
   "metadata": {},
   "outputs": [
    {
     "data": {
      "text/plain": [
       "Date/Time    datetime64[ns]\n",
       "Lat                 float64\n",
       "Lon                 float64\n",
       "Base                 object\n",
       "Date                 object\n",
       "dtype: object"
      ]
     },
     "execution_count": 16,
     "metadata": {},
     "output_type": "execute_result"
    }
   ],
   "source": [
    "df.dtypes"
   ]
  },
  {
   "cell_type": "code",
   "execution_count": 43,
   "id": "f0cea31b",
   "metadata": {},
   "outputs": [
    {
     "data": {
      "text/plain": [
       "0         2014-08-01\n",
       "1         2014-08-01\n",
       "2         2014-08-01\n",
       "3         2014-08-01\n",
       "4         2014-08-01\n",
       "             ...    \n",
       "829270    2014-08-31\n",
       "829271    2014-08-31\n",
       "829272    2014-08-31\n",
       "829273    2014-08-31\n",
       "829274    2014-08-31\n",
       "Name: Date/Time, Length: 829275, dtype: object"
      ]
     },
     "execution_count": 43,
     "metadata": {},
     "output_type": "execute_result"
    }
   ],
   "source": [
    "df['Date/Time'].dt.date"
   ]
  },
  {
   "cell_type": "code",
   "execution_count": 45,
   "id": "a6a5ada7",
   "metadata": {},
   "outputs": [
    {
     "data": {
      "text/html": [
       "<div>\n",
       "<style scoped>\n",
       "    .dataframe tbody tr th:only-of-type {\n",
       "        vertical-align: middle;\n",
       "    }\n",
       "\n",
       "    .dataframe tbody tr th {\n",
       "        vertical-align: top;\n",
       "    }\n",
       "\n",
       "    .dataframe thead th {\n",
       "        text-align: right;\n",
       "    }\n",
       "</style>\n",
       "<table border=\"1\" class=\"dataframe\">\n",
       "  <thead>\n",
       "    <tr style=\"text-align: right;\">\n",
       "      <th></th>\n",
       "      <th>Date/Time</th>\n",
       "      <th>Lat</th>\n",
       "      <th>Lon</th>\n",
       "      <th>Base</th>\n",
       "      <th>Date</th>\n",
       "      <th>Hour</th>\n",
       "    </tr>\n",
       "    <tr>\n",
       "      <th>Date/Time</th>\n",
       "      <th></th>\n",
       "      <th></th>\n",
       "      <th></th>\n",
       "      <th></th>\n",
       "      <th></th>\n",
       "      <th></th>\n",
       "    </tr>\n",
       "  </thead>\n",
       "  <tbody>\n",
       "    <tr>\n",
       "      <th>2014-08-01</th>\n",
       "      <td>32353</td>\n",
       "      <td>32353</td>\n",
       "      <td>32353</td>\n",
       "      <td>32353</td>\n",
       "      <td>32353</td>\n",
       "      <td>32353</td>\n",
       "    </tr>\n",
       "  </tbody>\n",
       "</table>\n",
       "</div>"
      ],
      "text/plain": [
       "            Date/Time    Lat    Lon   Base   Date   Hour\n",
       "Date/Time                                               \n",
       "2014-08-01      32353  32353  32353  32353  32353  32353"
      ]
     },
     "execution_count": 45,
     "metadata": {},
     "output_type": "execute_result"
    }
   ],
   "source": [
    "# Group by date and count the number of pickups\n",
    "pickup=df.groupby(df['Date/Time'].dt.date).count()\n",
    "pickup.head(1)"
   ]
  },
  {
   "cell_type": "code",
   "execution_count": 46,
   "id": "6ac04dc3",
   "metadata": {},
   "outputs": [
    {
     "data": {
      "text/html": [
       "<div>\n",
       "<style scoped>\n",
       "    .dataframe tbody tr th:only-of-type {\n",
       "        vertical-align: middle;\n",
       "    }\n",
       "\n",
       "    .dataframe tbody tr th {\n",
       "        vertical-align: top;\n",
       "    }\n",
       "\n",
       "    .dataframe thead th {\n",
       "        text-align: right;\n",
       "    }\n",
       "</style>\n",
       "<table border=\"1\" class=\"dataframe\">\n",
       "  <thead>\n",
       "    <tr style=\"text-align: right;\">\n",
       "      <th></th>\n",
       "      <th>Date/Time</th>\n",
       "      <th>Lat</th>\n",
       "      <th>Lon</th>\n",
       "      <th>Base</th>\n",
       "      <th>Date</th>\n",
       "      <th>Hour</th>\n",
       "    </tr>\n",
       "  </thead>\n",
       "  <tbody>\n",
       "    <tr>\n",
       "      <th>0</th>\n",
       "      <td>2014-08-01 00:03:00</td>\n",
       "      <td>40.7366</td>\n",
       "      <td>-73.9906</td>\n",
       "      <td>B02512</td>\n",
       "      <td>2014-08-01</td>\n",
       "      <td>0</td>\n",
       "    </tr>\n",
       "    <tr>\n",
       "      <th>1</th>\n",
       "      <td>2014-08-01 00:09:00</td>\n",
       "      <td>40.7260</td>\n",
       "      <td>-73.9918</td>\n",
       "      <td>B02512</td>\n",
       "      <td>2014-08-01</td>\n",
       "      <td>0</td>\n",
       "    </tr>\n",
       "    <tr>\n",
       "      <th>2</th>\n",
       "      <td>2014-08-01 00:12:00</td>\n",
       "      <td>40.7209</td>\n",
       "      <td>-74.0507</td>\n",
       "      <td>B02512</td>\n",
       "      <td>2014-08-01</td>\n",
       "      <td>0</td>\n",
       "    </tr>\n",
       "    <tr>\n",
       "      <th>3</th>\n",
       "      <td>2014-08-01 00:12:00</td>\n",
       "      <td>40.7387</td>\n",
       "      <td>-73.9856</td>\n",
       "      <td>B02512</td>\n",
       "      <td>2014-08-01</td>\n",
       "      <td>0</td>\n",
       "    </tr>\n",
       "    <tr>\n",
       "      <th>4</th>\n",
       "      <td>2014-08-01 00:12:00</td>\n",
       "      <td>40.7323</td>\n",
       "      <td>-74.0077</td>\n",
       "      <td>B02512</td>\n",
       "      <td>2014-08-01</td>\n",
       "      <td>0</td>\n",
       "    </tr>\n",
       "  </tbody>\n",
       "</table>\n",
       "</div>"
      ],
      "text/plain": [
       "            Date/Time      Lat      Lon    Base        Date  Hour\n",
       "0 2014-08-01 00:03:00  40.7366 -73.9906  B02512  2014-08-01     0\n",
       "1 2014-08-01 00:09:00  40.7260 -73.9918  B02512  2014-08-01     0\n",
       "2 2014-08-01 00:12:00  40.7209 -74.0507  B02512  2014-08-01     0\n",
       "3 2014-08-01 00:12:00  40.7387 -73.9856  B02512  2014-08-01     0\n",
       "4 2014-08-01 00:12:00  40.7323 -74.0077  B02512  2014-08-01     0"
      ]
     },
     "execution_count": 46,
     "metadata": {},
     "output_type": "execute_result"
    }
   ],
   "source": [
    "df.head()"
   ]
  },
  {
   "cell_type": "code",
   "execution_count": 47,
   "id": "b08d8bab",
   "metadata": {},
   "outputs": [
    {
     "name": "stdout",
     "output_type": "stream",
     "text": [
      "highest pickup happend on 2014-08-07\n"
     ]
    }
   ],
   "source": [
    "# Find the date with the highest number of pickups\n",
    "highest=pickup.sort_values(by='Lat',ascending=False)\n",
    "highest.index[0]\n",
    "print(\"highest pickup happend on\",highest.index[0])"
   ]
  },
  {
   "cell_type": "markdown",
   "id": "92876286",
   "metadata": {},
   "source": [
    "#### Q.2 How many Uber pickups were made on the date with the highest number of pickups?\n",
    "\n",
    "**Skill Test:** Indexing and filtering"
   ]
  },
  {
   "cell_type": "code",
   "execution_count": 49,
   "id": "f9574d4a",
   "metadata": {},
   "outputs": [
    {
     "name": "stdout",
     "output_type": "stream",
     "text": [
      "The highest number of pickups on a single date is 32759.\n"
     ]
    }
   ],
   "source": [
    "# Filter the DataFrame to include only the rows for the date with the highest number of pickups\n",
    "\n",
    "df[df['Date/Time'].dt.date==highest.index[0]]\n",
    "\n",
    "\n",
    "\n",
    "# Get the count of pickups on the highest date\n",
    "df['Date'] = df['Date/Time'].dt.date\n",
    "\n",
    "# Group by the Date column and count the number of pickups\n",
    "pickup_counts = df.groupby('Date').size()\n",
    "\n",
    "# Find the maximum value\n",
    "max_pickup_count = pickup_counts.max()\n",
    "\n",
    "print(f\"The highest number of pickups on a single date is {max_pickup_count}.\")\n",
    "\n",
    "\n"
   ]
  },
  {
   "cell_type": "code",
   "execution_count": 50,
   "id": "ad8a3dc4",
   "metadata": {},
   "outputs": [
    {
     "data": {
      "text/plain": [
       "(32759, 6)"
      ]
     },
     "execution_count": 50,
     "metadata": {},
     "output_type": "execute_result"
    }
   ],
   "source": [
    "pickup_highest_date = df[df['Date/Time'].dt.date == highest.index[0]]\n",
    "pickup_highest_date.shape"
   ]
  },
  {
   "cell_type": "markdown",
   "id": "7dc6baef",
   "metadata": {},
   "source": [
    "#### Q.3 How many unique TLC base companies are affiliated with the Uber pickups in the dataset?\n",
    "\n",
    "**Skill Test:** Counting unique values"
   ]
  },
  {
   "cell_type": "code",
   "execution_count": 18,
   "id": "9380c5ff",
   "metadata": {},
   "outputs": [
    {
     "name": "stdout",
     "output_type": "stream",
     "text": [
      "No of companies affiliates with Uber- 5\n"
     ]
    }
   ],
   "source": [
    "# Count the number of unique TLC base companies\n",
    "unique_company=df['Base'].nunique()\n",
    "print(\"No of companies affiliates with Uber-\",unique_company)\n",
    "\n"
   ]
  },
  {
   "cell_type": "markdown",
   "id": "71958a9f",
   "metadata": {},
   "source": [
    "#### Q.4 Which TLC base company had the highest number of pickups?\n",
    "\n",
    "**Skill Test:** Grouping, counting, and finding the maximum"
   ]
  },
  {
   "cell_type": "code",
   "execution_count": 19,
   "id": "cd1cfe55",
   "metadata": {},
   "outputs": [
    {
     "data": {
      "text/plain": [
       "Base\n",
       "B02512     31472\n",
       "B02598    220129\n",
       "B02617    355803\n",
       "B02682    173280\n",
       "B02764     48591\n",
       "dtype: int64"
      ]
     },
     "execution_count": 19,
     "metadata": {},
     "output_type": "execute_result"
    }
   ],
   "source": [
    "# Group by TLC base company and count the number of pickups\n",
    "df.groupby(df['Date/Time'].dt.date)['Base'].count()\n",
    "# Find the TLC base company with the highest number of pickups\n",
    "\n",
    "base_pickups = df.groupby('Base').size()\n",
    "base_pickups\n"
   ]
  },
  {
   "cell_type": "markdown",
   "id": "a7fe7748",
   "metadata": {},
   "source": [
    "#### Q.5 How many Uber pickups were made at each unique TLC base company?\n",
    "\n",
    "**Skill Test:** Grouping and counting"
   ]
  },
  {
   "cell_type": "code",
   "execution_count": 20,
   "id": "f8a4e6b3",
   "metadata": {},
   "outputs": [
    {
     "name": "stdout",
     "output_type": "stream",
     "text": [
      "     Base  Pickup Count\n",
      "0  B02512         31472\n",
      "1  B02598        220129\n",
      "2  B02617        355803\n",
      "3  B02682        173280\n",
      "4  B02764         48591\n"
     ]
    }
   ],
   "source": [
    "# Group by TLC base company and count the number of pickups\n",
    "result = df.groupby('Base').size().reset_index(name='Pickup Count')\n",
    "\n",
    "print(result)\n",
    "\n"
   ]
  },
  {
   "cell_type": "markdown",
   "id": "fdae331e",
   "metadata": {},
   "source": [
    "#### Q.6 Can you determine the busiest time of day for Uber pickups based on the date/time column?\n",
    "\n",
    "**Skill Test:** Extracting time components, grouping, counting, and finding the maximum"
   ]
  },
  {
   "cell_type": "code",
   "execution_count": 21,
   "id": "3341b137",
   "metadata": {},
   "outputs": [
    {
     "name": "stdout",
     "output_type": "stream",
     "text": [
      "                 Date/Time      Lat      Lon    Base        Date  Hour\n",
      "0      2014-08-01 00:03:00  40.7366 -73.9906  B02512  2014-08-01     0\n",
      "1      2014-08-01 00:09:00  40.7260 -73.9918  B02512  2014-08-01     0\n",
      "2      2014-08-01 00:12:00  40.7209 -74.0507  B02512  2014-08-01     0\n",
      "3      2014-08-01 00:12:00  40.7387 -73.9856  B02512  2014-08-01     0\n",
      "4      2014-08-01 00:12:00  40.7323 -74.0077  B02512  2014-08-01     0\n",
      "...                    ...      ...      ...     ...         ...   ...\n",
      "829270 2014-08-31 23:55:00  40.7552 -73.9753  B02764  2014-08-31    23\n",
      "829271 2014-08-31 23:55:00  40.7552 -73.9753  B02764  2014-08-31    23\n",
      "829272 2014-08-31 23:55:00  40.7617 -73.9788  B02764  2014-08-31    23\n",
      "829273 2014-08-31 23:59:00  40.7395 -73.9889  B02764  2014-08-31    23\n",
      "829274 2014-08-31 23:59:00  40.7270 -73.9802  B02764  2014-08-31    23\n",
      "\n",
      "[829275 rows x 6 columns]\n",
      "17    57122\n",
      "18    55390\n",
      "16    53481\n",
      "19    53008\n",
      "20    51674\n",
      "21    51354\n",
      "15    48197\n",
      "22    46008\n",
      "14    40644\n",
      "13    35764\n",
      "8     34566\n",
      "7     34064\n",
      "23    33609\n",
      "12    32106\n",
      "11    31778\n",
      "10    30706\n",
      "9     30195\n",
      "6     24907\n",
      "0     21451\n",
      "5     16525\n",
      "1     14471\n",
      "4     11774\n",
      "3     10376\n",
      "2     10105\n",
      "Name: Hour, dtype: int64\n",
      "Hour\n",
      "0     21451\n",
      "1     14471\n",
      "2     10105\n",
      "3     10376\n",
      "4     11774\n",
      "5     16525\n",
      "6     24907\n",
      "7     34064\n",
      "8     34566\n",
      "9     30195\n",
      "10    30706\n",
      "11    31778\n",
      "12    32106\n",
      "13    35764\n",
      "14    40644\n",
      "15    48197\n",
      "16    53481\n",
      "17    57122\n",
      "18    55390\n",
      "19    53008\n",
      "20    51674\n",
      "21    51354\n",
      "22    46008\n",
      "23    33609\n",
      "dtype: int64\n",
      "The hour with the highest number of pickups is 17.\n"
     ]
    }
   ],
   "source": [
    "# Extract the hour from the 'Date/Time' column\n",
    "\n",
    "df['Date/Time'] = pd.to_datetime(df['Date/Time'])\n",
    "df['Hour'] = df['Date/Time'].dt.hour\n",
    "\n",
    "print(df)\n",
    "# Group by hour and count the number of pickups\n",
    "df['Date/Time'] = pd.to_datetime(df['Date/Time'])\n",
    "df['Hour'] = df['Date/Time'].dt.hour\n",
    "print(df['Hour'].value_counts())\n",
    "print(df.groupby('Hour').size())\n",
    "\n",
    "\n",
    "# Find the hour with the highest number of pickups\n",
    "\n",
    "# Convert the Date/Time column to a datetime object\n",
    "df['Date/Time'] = pd.to_datetime(df['Date/Time'])\n",
    "\n",
    "# Extract the hour from the Date/Time column\n",
    "df['Hour'] = df['Date/Time'].dt.hour\n",
    "\n",
    "# Group by the Hour column and count the number of pickups\n",
    "pickup_counts = df.groupby('Hour').size()\n",
    "\n",
    "# Find the index of the maximum value\n",
    "max_pickup_hour = pickup_counts.idxmax()\n",
    "\n",
    "print(f\"The hour with the highest number of pickups is {max_pickup_hour}.\")"
   ]
  },
  {
   "cell_type": "markdown",
   "id": "c2d856c1",
   "metadata": {},
   "source": [
    "#### Q.7 Can you create a visualization (e.g., a bar chart or line plot) to represent the number of Uber pickups over time?\n",
    "\n",
    "**Skill Test:** Data Visualization using Plotting function "
   ]
  },
  {
   "cell_type": "code",
   "execution_count": 26,
   "id": "bf609d23",
   "metadata": {},
   "outputs": [
    {
     "data": {
      "text/plain": [
       "2014-08-07    32759\n",
       "2014-08-01    32353\n",
       "2014-08-21    32304\n",
       "2014-08-06    30495\n",
       "2014-08-14    30457\n",
       "2014-08-08    30411\n",
       "2014-08-13    29788\n",
       "2014-08-12    29646\n",
       "2014-08-22    29512\n",
       "2014-08-15    28974\n",
       "2014-08-02    28678\n",
       "2014-08-28    28597\n",
       "2014-08-05    28094\n",
       "2014-08-20    27955\n",
       "2014-08-29    27424\n",
       "2014-08-23    27097\n",
       "2014-08-27    27018\n",
       "2014-08-09    26286\n",
       "2014-08-16    26234\n",
       "2014-08-04    24952\n",
       "2014-08-19    24834\n",
       "2014-08-26    24550\n",
       "2014-08-30    23930\n",
       "2014-08-31    23271\n",
       "2014-08-03    23146\n",
       "2014-08-11    22632\n",
       "2014-08-25    22093\n",
       "2014-08-24    22036\n",
       "2014-08-18    21956\n",
       "2014-08-17    21209\n",
       "2014-08-10    20584\n",
       "Name: Date/Time, dtype: int64"
      ]
     },
     "execution_count": 26,
     "metadata": {},
     "output_type": "execute_result"
    }
   ],
   "source": [
    "import matplotlib.pyplot as plt\n",
    "\n",
    "# Group by date and count the number of pickups\n",
    "x=df['Date/Time'].dt.date.value_counts()\n",
    "x\n",
    "# Create a line plot to visualize the number of pickups over time\n",
    "x=df['Date/Time'].dt.date.value_counts()\n",
    "x"
   ]
  },
  {
   "cell_type": "markdown",
   "id": "8aed8e44",
   "metadata": {},
   "source": [
    "#### Q8. Can you create a scatter plot to visualize the distribution of Uber pickups based on latitude and longitude?\n",
    "\n",
    "**Skill Test:** Scatter Plot"
   ]
  },
  {
   "cell_type": "code",
   "execution_count": 28,
   "id": "50b31f2f",
   "metadata": {},
   "outputs": [
    {
     "data": {
      "text/plain": [
       "<matplotlib.collections.PathCollection at 0x1b75735e190>"
      ]
     },
     "execution_count": 28,
     "metadata": {},
     "output_type": "execute_result"
    },
    {
     "data": {
      "image/png": "[encoded data removed]",
      "text/plain": [
       "<Figure size 640x480 with 1 Axes>"
      ]
     },
     "metadata": {},
     "output_type": "display_data"
    }
   ],
   "source": [
    "# Create a scatter plot to visualize the distribution of Uber pickups based on latitude and longitude\n",
    "plt.scatter(df['Lat'],df[\"Lon\"])"
   ]
  },
  {
   "cell_type": "markdown",
   "id": "3e0bad62",
   "metadata": {},
   "source": [
    "#### Q9. Can you create a bar chart to compare the number of Uber pickups for each TLC base company?\n",
    "\n",
    "**Skill Test:** Bar Chart"
   ]
  },
  {
   "cell_type": "code",
   "execution_count": 29,
   "id": "5b603834",
   "metadata": {},
   "outputs": [
    {
     "data": {
      "text/plain": [
       "<AxesSubplot:>"
      ]
     },
     "execution_count": 29,
     "metadata": {},
     "output_type": "execute_result"
    },
    {
     "data": {
      "image/png": "[encoded data removed]",
      "text/plain": [
       "<Figure size 640x480 with 1 Axes>"
      ]
     },
     "metadata": {},
     "output_type": "display_data"
    }
   ],
   "source": [
    "# Create a bar chart to compare the number of Uber pickups for each TLC base company\n",
    "x=df['Base'].value_counts()\n",
    "x.plot(kind='bar')"
   ]
  },
  {
   "cell_type": "markdown",
   "id": "e61b3ecf",
   "metadata": {},
   "source": [
    "#### Q10. Can you create a pie chart to display the percentage distribution of Uber pickups for each day of the week?\n",
    "\n",
    "**Skill Test:** Pie Chart"
   ]
  },
  {
   "cell_type": "code",
   "execution_count": 34,
   "id": "e45dbff8",
   "metadata": {},
   "outputs": [
    {
     "data": {
      "image/png": "[encoded data removed]",
      "text/plain": [
       "<Figure size 540x540 with 1 Axes>"
      ]
     },
     "metadata": {},
     "output_type": "display_data"
    }
   ],
   "source": [
    "# Group by day of the week and count the number of pickups\n",
    "x=df['Date/Time'].dt.day_name().value_counts()\n",
    "x\n",
    "\n",
    "# Create a pie chart to display the percentage distribution of Uber pickups for each day of the week\n",
    "plt.figure(figsize=(5.4,5.4))\n",
    "plt.pie(x.values, labels = x.index,autopct= '%f')\n",
    "plt.show()"
   ]
  }
 ],
 "metadata": {
  "kernelspec": {
   "display_name": "Python 3 (ipykernel)",
   "language": "python",
   "name": "python3"
  },
  "language_info": {
   "codemirror_mode": {
    "name": "ipython",
    "version": 3
   },
   "file_extension": ".py",
   "mimetype": "text/x-python",
   "name": "python",
   "nbconvert_exporter": "python",
   "pygments_lexer": "ipython3",
   "version": "3.9.13"
  }
 },
 "nbformat": 4,
 "nbformat_minor": 5
}
